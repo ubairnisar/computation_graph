{
 "cells": [
  {
   "cell_type": "code",
   "execution_count": 2,
   "metadata": {},
   "outputs": [],
   "source": [
    "equation  = \"1+1/e^-w1x1-w2x2-w3x3\""
   ]
  },
  {
   "attachments": {},
   "cell_type": "markdown",
   "metadata": {},
   "source": [
    "# TODO : Given any eqation with value of variable,i should get respective derivative to any variable for that equation"
   ]
  },
  {
   "cell_type": "code",
   "execution_count": null,
   "metadata": {},
   "outputs": [],
   "source": [
    "\"\"\"parsing the equation\"\"\""
   ]
  },
  {
   "cell_type": "code",
   "execution_count": null,
   "metadata": {},
   "outputs": [],
   "source": [
    "\"\"\"calculating the derivative of the equation\"\"\""
   ]
  },
  {
   "cell_type": "markdown",
   "metadata": {},
   "source": [
    "## simply finding the derivative of sigmoid using flow graph method"
   ]
  },
  {
   "cell_type": "code",
   "execution_count": 3,
   "metadata": {},
   "outputs": [],
   "source": [
    "import numpy as np"
   ]
  },
  {
   "cell_type": "code",
   "execution_count": 53,
   "metadata": {},
   "outputs": [],
   "source": [
    "def forward_add(x,y):\n",
    "    return x+y ,  1, 1\n",
    "\n",
    "def forward_sum(x):\n",
    "    return np.sum(x) ,  np.ones_like(x)\n",
    "def forward_mul(x,y):\n",
    "    return x*y ,  y, x\n",
    "def forward_exp(x):\n",
    "    return np.exp(x) ,  np.exp(x)\n",
    "def forward_neg(x):\n",
    "    return -x ,  -1\n",
    "def forward_inverse(x):\n",
    "    return 1/x ,  -1/x**2\n",
    "def forward_sub(x,y):\n",
    "    return x-y ,  1, -1\n",
    "def backward_mul(x, y):\n",
    "    return x*y\n"
   ]
  },
  {
   "cell_type": "code",
   "execution_count": 57,
   "metadata": {},
   "outputs": [
    {
     "name": "stdout",
     "output_type": "stream",
     "text": [
      "[[-2  2 -1]\n",
      " [ 6 -3 -2]\n",
      " [-3 -3  1]]\n",
      "(1, array([1, 1, 1]))\n",
      "(-1, -1)\n",
      "(0.36787944117144233, 0.36787944117144233)\n",
      "(1.3678794411714423, 1, 1)\n",
      "(0.7310585786300049, -0.534446645388523)\n"
     ]
    }
   ],
   "source": [
    "w = [2, -3, -3]  # assume random weights and data\n",
    "x = [-1, -2 ,1]\n",
    "first_layer = []\n",
    "for i in range(len(x)):\n",
    "    first_layer.append(forward_mul(x[i],w[i]))\n",
    "first_layer=np.array(first_layer)\n",
    "print(first_layer)\n",
    "\n",
    "second_layer = forward_sum(first_layer[: ,0 ])\n",
    "print(second_layer)\n",
    "third_layer = forward_neg(second_layer[0])\n",
    "print(third_layer)\n",
    "fourth_layer = forward_exp(third_layer[0])\n",
    "print(fourth_layer)\n",
    "fifth_layer = forward_add(fourth_layer[0],1)\n",
    "print(fifth_layer)\n",
    "sixth_layer = forward_inverse(fifth_layer[0])\n",
    "print(sixth_layer)"
   ]
  },
  {
   "cell_type": "code",
   "execution_count": 58,
   "metadata": {},
   "outputs": [],
   "source": [
    "ans=backward_mul(sixth_layer[1],fifth_layer[1])\n",
    "ans=backward_mul(ans ,fourth_layer[1])\n",
    "ans=backward_mul(ans ,third_layer[1])\n",
    "ans=backward_mul(ans ,second_layer[1])\n",
    "final_ans = []\n",
    "for i in range (len(x)):\n",
    "    final_ans.append((backward_mul(ans[i] , first_layer[i][1]) , backward_mul(ans[i] , first_layer[i][2])))"
   ]
  },
  {
   "cell_type": "code",
   "execution_count": 59,
   "metadata": {},
   "outputs": [
    {
     "data": {
      "text/plain": [
       "[(0.39322386648296376, -0.19661193324148188),\n",
       " (-0.5898357997244457, -0.39322386648296376),\n",
       " (-0.5898357997244457, 0.19661193324148188)]"
      ]
     },
     "execution_count": 59,
     "metadata": {},
     "output_type": "execute_result"
    }
   ],
   "source": [
    "final_ans\n",
    "\n",
    "\"\"\"Here first element of the tuple represents the derivative wrt w and second element represents the derivative wrt x\"\"\""
   ]
  },
  {
   "cell_type": "code",
   "execution_count": null,
   "metadata": {},
   "outputs": [],
   "source": []
  }
 ],
 "metadata": {
  "kernelspec": {
   "display_name": "Python 3",
   "language": "python",
   "name": "python3"
  },
  "language_info": {
   "codemirror_mode": {
    "name": "ipython",
    "version": 3
   },
   "file_extension": ".py",
   "mimetype": "text/x-python",
   "name": "python",
   "nbconvert_exporter": "python",
   "pygments_lexer": "ipython3",
   "version": "3.10.6"
  },
  "orig_nbformat": 4,
  "vscode": {
   "interpreter": {
    "hash": "916dbcbb3f70747c44a77c7bcd40155683ae19c65e1c03b4aa3499c5328201f1"
   }
  }
 },
 "nbformat": 4,
 "nbformat_minor": 2
}
